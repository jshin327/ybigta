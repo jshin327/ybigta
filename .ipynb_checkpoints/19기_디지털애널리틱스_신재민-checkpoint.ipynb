{
 "cells": [
  {
   "cell_type": "markdown",
   "metadata": {
    "id": "kINDRpe73jTL"
   },
   "source": [
    "<font size=\"5\"><center> **Jupyter Notebook 사용법** </center><font>"
   ]
  },
  {
   "cell_type": "markdown",
   "metadata": {
    "id": "NUsiIfRO0DEO"
   },
   "source": [
    "<div style=\"text-align: right\"> YBIGTA 18기 DE 정재은</div>\n",
    "<div style=\"text-align: right\">(Thanks to 14기 이용하, 15기 송하룡, 16기 김지환, 17기 이동주)</div>"
   ]
  },
  {
   "cell_type": "markdown",
   "metadata": {
    "id": "irTbAQYp3jTQ"
   },
   "source": [
    "---\n",
    "#### * 익명질문 - 카카오톡 오픈채팅방 이용!\n",
    "#### * 함께 공부하면 좋은 사이트\n",
    "- [점프 투 파이썬](https://wikidocs.net/book/1) : 파이썬에 대한 아주 기본적인 내용을 위키백과형식으로 정리해두었습니다.\n",
    "- [codecademy](https://www.codecademy.com/learn/learn-python) : 직접 코드를 실행시켜가면서 배우는 온라인 파이썬 강의입니다.\n",
    "- [DataCamp](https://campus.datacamp.com/courses/intro-to-python-for-data-science/) : 데이터 분석을 위한 파이썬을 압축적으로 들을 수 있는 강의입니다.\n",
    "- [Programmers - Python 입문](https://programmers.co.kr/learn/courses/2) : 온라인 강의를 듣고 관련된 코드를 바로 연습해볼 수 있는 사이트입니다."
   ]
  },
  {
   "cell_type": "markdown",
   "metadata": {
    "id": "P0ZUEUFl3jTQ"
   },
   "source": [
    "----\n",
    "\n",
    "### 1.  셀\n",
    "Jupyter Notebook에서는 블록 단위로 코드를 작성하며 이러한 블록을 __셀__이라고 합니다."
   ]
  },
  {
   "cell_type": "markdown",
   "metadata": {
    "id": "IUSbva94eJm4"
   },
   "source": [
    "### - 유용한 단축키들 ( Help - Keyboard Shortcuts )\n",
    "### - **ESC** 를 누르고 나서 사용해야 합니다.\n",
    "\n",
    "- **A** : 바로 위에 새로운 Cell 생성\n",
    "\n",
    "- **B** : 바로 밑에 새로운 Cell 생성\n",
    "\n",
    "- **DD** : 해당 셀을 삭제합니다.\n",
    "\n",
    "- **Z** : 삭제한 셀을 다시 생성\n",
    "\n",
    "- **Y** : 셀을 Python Code 셀로 지정\n",
    "\n",
    "- **M** : 셀을 글 작성을 위한 Markdown 셀로 지정\n",
    "\n",
    "- **C** : 선택한 셀 복사\n",
    "\n",
    "- **V** : 복사된 셀 붙여넣기\n",
    "\n",
    "※ 위의 단축키들은 해당 셀이 파란색 테두리일때만 사용가능합니다. 초록색인 경우, ESC를 누르거나 왼쪽의 여백을 누르시면 파란색으로 바뀝니다.\n",
    "\n",
    "- **Shift + Enter** : 해당 셀 실행\n"
   ]
  },
  {
   "cell_type": "markdown",
   "metadata": {
    "id": "09zfFbi-0DEQ"
   },
   "source": [
    "----\n",
    "\n",
    "### 2.  Markdown (단축키 M)\n",
    "프로젝트의 진행과정을 매우 상세하게 기록할 수 있습니다.\n",
    "<br>**\\#**을 통해 **글자의 크기**를 조절할 수 있고 (각 열의 맨 앞에서 사용 가능), \n",
    "<br>별표시(\\*)를 양쪽에 붙여서 '**강조하기** (\\*\\*단어\\*\\* 혹은 \\_\\_단어\\_\\_)' 와 '*기울이기* (\\*단어\\*)'가 가능합니다.\n",
    "\n",
    "\n",
    "참고로 Markdown이 아닌 Python Code 셀에서 #은 주석처리를 위해 사용됩니다.</p>\n",
    "- 기타 마크 다운 사용법 참고 : <https://gist.github.com/ihoneymon/652be052a0727ad59601>"
   ]
  },
  {
   "cell_type": "markdown",
   "metadata": {
    "id": "7jVdj9iO0DER"
   },
   "source": [
    "### - Markdown Examples"
   ]
  },
  {
   "cell_type": "markdown",
   "metadata": {
    "id": "U52ioCOp0DER"
   },
   "source": [
    "# YBIGTA"
   ]
  },
  {
   "cell_type": "markdown",
   "metadata": {
    "id": "-kijTW8z0DER"
   },
   "source": [
    "## YBIGTA"
   ]
  },
  {
   "cell_type": "markdown",
   "metadata": {
    "id": "wnbNoA0Y0DER"
   },
   "source": [
    "### YBIGTA"
   ]
  },
  {
   "cell_type": "markdown",
   "metadata": {
    "id": "rMNdJ-uj0DER"
   },
   "source": [
    "#### YBIGTA"
   ]
  },
  {
   "cell_type": "markdown",
   "metadata": {
    "id": "hTsl1oxc0DES"
   },
   "source": [
    "**YBIGTA**\n",
    "__YBIGTA__"
   ]
  },
  {
   "cell_type": "markdown",
   "metadata": {
    "id": "mKCLGk770DES"
   },
   "source": [
    "*YBIGTA*"
   ]
  },
  {
   "cell_type": "markdown",
   "metadata": {
    "id": "13pBO9yr0DES"
   },
   "source": [
    "----"
   ]
  },
  {
   "cell_type": "markdown",
   "metadata": {
    "id": "hOgMFqjo3jTb"
   },
   "source": [
    "----\n",
    "\n",
    "### 3. Tab과 Shift + Tab 활용\n",
    "\n",
    "**Tab** : 선언된 변수의 이름에 대해 자동완성</p>\n",
    "**Shift + Tab** : 해당 Module 혹은 함수의 documentation 출력 (Parameter 혹은 Module의 기능이 기억나지 않을 때 유용)"
   ]
  },
  {
   "cell_type": "code",
   "execution_count": null,
   "metadata": {
    "id": "oftuyqnu0DET"
   },
   "outputs": [],
   "source": [
    "ybigta = \"와이빅타\""
   ]
  },
  {
   "cell_type": "code",
   "execution_count": null,
   "metadata": {
    "id": "JNa7IVOQ0DET"
   },
   "outputs": [],
   "source": [
    "# y만 적으신 다음에 Tab을 눌러보세요.\n",
    "yield"
   ]
  },
  {
   "cell_type": "code",
   "execution_count": null,
   "metadata": {
    "id": "aY9NoB2T0DET",
    "scrolled": true
   },
   "outputs": [],
   "source": [
    "# print의 괄호 안에서 Shift + Tab을 눌러보세요.\n",
    "\n",
    "print()"
   ]
  },
  {
   "cell_type": "markdown",
   "metadata": {
    "id": "g2tnWS5_0DEU"
   },
   "source": [
    "----\n",
    "\n",
    "### 4. 코드를 처음부터 끝까지 다시 실행하고 싶은 경우\n",
    "\n",
    "- __Kernel - Restart & Run All - Restart and Run All Cells__"
   ]
  },
  {
   "cell_type": "markdown",
   "metadata": {
    "id": "OVvVYa9e0DEU"
   },
   "source": [
    "----\n",
    "\n",
    "### 5. Notebook 종료\n",
    "\n",
    "단순히 웹 페이지의 탭을 닫는 것만으로는 해당 주피터 노트북의 실행이 종료되지 않습니다.\n",
    "<br> 따라서 __File - Close and Halt__ 를 누르시거나 __Shutdown__을 통해 종료시켜야 합니다."
   ]
  },
  {
   "cell_type": "markdown",
   "metadata": {
    "id": "viIwyn9p0DEU"
   },
   "source": [
    "# Python 실습"
   ]
  },
  {
   "cell_type": "markdown",
   "metadata": {
    "id": "kDjzjWIG0DEU"
   },
   "source": [
    "## 파이썬 자료형\n",
    "숫자형: int(정수), float(실수)\n",
    "\n",
    "문자열: string\n",
    "\n",
    "bool 자료형: True, False\n",
    "\n",
    "자주 만날 자료형: list, dictionary, tuple\n"
   ]
  },
  {
   "cell_type": "code",
   "execution_count": null,
   "metadata": {
    "id": "l-eFRZX40DEU"
   },
   "outputs": [],
   "source": [
    "# 리터럴을 사용해서 변수 선언\n",
    "num = 8\n",
    "floating = 0.1\n",
    "String = \"string\"\n",
    "boolean = True\n",
    "print(type(num))"
   ]
  },
  {
   "cell_type": "markdown",
   "metadata": {
    "id": "bGZ_bb-N0DEU"
   },
   "source": [
    "### 리스트\n",
    "\n",
    "리스트명 = [요소1, 요소2, 요소3, ...]\n",
    "\n",
    "대괄호([])를 사용합니다.\n",
    "\n",
    "리스트에는 어떤한 자료형도 포함시킬 수 있습니다.\n",
    "\n",
    "리스트의 인덱스(index)는 0부터 시작합니다."
   ]
  },
  {
   "cell_type": "code",
   "execution_count": null,
   "metadata": {
    "id": "CmFMVHMy0DEV"
   },
   "outputs": [],
   "source": [
    "a = []\n",
    "b = [1, 2, 3]\n",
    "c = [\"파이썬\", \"자바\", \"c++\"]\n",
    "d = [1, 5.3, \"string\"]\n",
    "e = [[1, 2, 3], [4, 5, 6,], [7, 8, 9]]\n",
    "\n",
    "print(d)\n",
    "print(d[1])\n",
    "print(e[0][1])"
   ]
  },
  {
   "cell_type": "code",
   "execution_count": null,
   "metadata": {
    "id": "_Ku1wf_beJm-"
   },
   "outputs": [],
   "source": [
    "lst = [4, 3, 2, 1, 5]\n",
    "# 리스트 길이 확인\n",
    "print(len(lst))\n",
    "\n",
    "# 마지막에 붙임\n",
    "lst.append(6)\n",
    "print(lst)\n",
    "\n",
    "# 마지막 원소 삭제\n",
    "lst.pop()\n",
    "print(lst)\n",
    "\n",
    "# 리스트 정렬\n",
    "lst.sort()\n",
    "print(lst)"
   ]
  },
  {
   "cell_type": "markdown",
   "metadata": {
    "id": "rGP4LmaK0DEV"
   },
   "source": [
    "## 튜플\n",
    "리스트와 완전히 동일하지만 값을 변경하거나 삭제할 수 없다는 차이가 있습니다.\n",
    "\n",
    "소괄호(())를 사용합니다."
   ]
  },
  {
   "cell_type": "code",
   "execution_count": null,
   "metadata": {
    "id": "MnnDN55h0DEV"
   },
   "outputs": [],
   "source": [
    "tup = (1, 2, 3, 4)\n",
    "print(tup[3])\n",
    "print(len(tup))"
   ]
  },
  {
   "cell_type": "code",
   "execution_count": null,
   "metadata": {
    "id": "LptNtrTk0DEV"
   },
   "outputs": [],
   "source": [
    "# 튜플에서 값을 변경하려하면 오류가 생깁니다.\n",
    "tup[0] = 5"
   ]
  },
  {
   "cell_type": "markdown",
   "metadata": {
    "id": "-O0tQehP0DEW"
   },
   "source": [
    "### 딕셔너리\n",
    "Key - Value 쌍으로 이루어진 자료형입니다. Hash map 구조 입니다.\n",
    "\n",
    "딕셔너리명 = {Key1:Value1, Key2:Value2, Key3:Value3, ...}\n",
    "\n",
    "중괄호({})를 사용합니다.\n",
    "\n",
    "리스트와 다르게 순서가 없습니다."
   ]
  },
  {
   "cell_type": "code",
   "execution_count": null,
   "metadata": {
    "id": "1ZZnfT-D0DEW"
   },
   "outputs": [],
   "source": [
    "food_price = {\"짜장면\": 6000, \"햄버거\": 5000, \"치킨\": 20000}\n",
    "food_price[\"피자\"] = 30000\n",
    "print(food_price[\"피자\"])\n",
    "\n",
    "## 리스트처럼 인덱스로 접근할 수 없습니다.\n",
    "print(food_price[0])\n",
    "\n",
    "# key확인\n",
    "print(food_price.keys())\n",
    "# value확인\n",
    "print(food_price.values())"
   ]
  },
  {
   "cell_type": "markdown",
   "metadata": {
    "id": "8gEBujO00DEW"
   },
   "source": [
    "##  01. if-else문\n",
    "\n",
    "1. if문은 조건이 참(True)일 때 그 아래 들여쓰기 된 코드를 실행합니다.\n",
    "\n",
    "\n",
    "2. if-else문은 if문의 조건문이 참(True)일 때는 if문에 해당하는 코드를 실행하고,\n",
    "\n",
    "   참이 아니라면 else문에 해당하는 코드를 실행합니다.\n",
    "   \n",
    "   \n",
    "3. if-elif-else문은 if문의 조건문의 참,거짓 여부를 판단하고 if문이 참이라면 if문에 해당하는 코드를 실행합니다.\n",
    "\n",
    "   if문이 참이 아니라면 elif문의 조건문의 참, 거짓 여부를 판단하고 참이라면 해당하는 코드를 실행합니다.\n",
    "   \n",
    "   모든 조건문이 참이 아니라면 else문에 해당하는 코드를 실행합니다.\n",
    "   \n",
    "   \n",
    "```python3\n",
    "if 조건:\n",
    "    실행할 코드\n",
    "    \n",
    "if 조건:\n",
    "    실행할 코드\n",
    "else:\n",
    "    실행할 코드\n",
    "    \n",
    "    \n",
    "if 조건1:\n",
    "    실행할 코드\n",
    "elif 조건2:\n",
    "    실행할 코드\n",
    "else:\n",
    "    실행할 코드\n",
    "```"
   ]
  },
  {
   "cell_type": "code",
   "execution_count": null,
   "metadata": {
    "id": "J3qdKQps0DEW"
   },
   "outputs": [],
   "source": [
    "# if문은 조건문이 True라면 실행됩니다.\n",
    "money = True\n",
    "\n",
    "if money:\n",
    "    print(\"money\")"
   ]
  },
  {
   "cell_type": "code",
   "execution_count": null,
   "metadata": {
    "id": "JzHtrVSj0DEW"
   },
   "outputs": [],
   "source": [
    "money = 10000\n",
    "\n",
    "if money > 5000:\n",
    "    print(\"enough money\")\n",
    "else:\n",
    "    print(\"no money\")"
   ]
  },
  {
   "cell_type": "code",
   "execution_count": null,
   "metadata": {
    "id": "m-ymCTnw0DEW"
   },
   "outputs": [],
   "source": [
    "# 가진 돈에 따라서 점심메뉴를 나누어 봅시다.\n",
    "# 4000원 미만은 '학식', 4000원 이상 8000원 미만은 '맥도날드', 8000원 이상은 '스테이크'를 print하도록 해보죠!!\n",
    "\n",
    "money = 5000\n",
    "\n",
    "if money < 4000:\n",
    "    print('학식')\n",
    "elif money < 8000:\n",
    "    print('맥도날드')\n",
    "else:\n",
    "    print('스테이크')"
   ]
  },
  {
   "cell_type": "code",
   "execution_count": null,
   "metadata": {
    "id": "Gl0tZ5730DEX"
   },
   "outputs": [],
   "source": [
    "## 순서대로 조건문을 판단하기 때문에 원하는 결과가 안나올 수 있으므로 주의해주세요!!\n",
    "\n",
    "money = 5000\n",
    "\n",
    "if money < 8000:\n",
    "    print('맥도날드')\n",
    "elif money < 4000:\n",
    "    print('학식')\n",
    "else:\n",
    "    print('스테이크')\n"
   ]
  },
  {
   "cell_type": "markdown",
   "metadata": {
    "id": "iVETDJlh0DEX"
   },
   "source": [
    "## for문\n",
    "\n",
    "for문은 반복문으로 리스트의 요소를 순회하거나 특정코드를 반복해서 수행하는 등의 작업에서 사용됩니다.\n",
    "\n",
    "### 1. 리스트 요소 순회\n",
    "1. 아래의 코드는 '변수'에 리스트의 요소가 차례대로 할당됩니다.\n",
    "\n",
    "<pre>\n",
    "<code>\n",
    "for 변수 in 리스트명:\n",
    "    수행할 코드\n",
    "</code>\n",
    "</pre>\n",
    "\n",
    "### 2. range 함수\n",
    "1. range 함수는 숫자 리스트를 만들어주는 함수입니다.\n",
    "\n",
    "\n",
    "2. range 함수에는 '시작', '끝', '간격'을 정해주어야 합니다.\n",
    "\n",
    "\n",
    "3. '간격'은 생략할 때가 많으며, 생략할 경우 1로 지정됩니다.\n",
    "\n",
    "\n",
    "4. '시작'과 '간격'을 모두 생략하고 '끝'만 지정해주면 '시작'은 0, '간격'은 1로 지정됩니다.\n",
    "\n",
    "\n",
    "5. '변수'는 '시작' 이상 ~ '끝' 미만의 범위에서 할당됩니다.\n",
    "\n",
    "    ex) range(1, 5)라면 '변수'에는 1, 2, 3, 4가 할당됩니다.\n",
    "\n",
    "<pre>\n",
    "<code>\n",
    "for 변수 in range(시작, 끝, 간격):\n",
    "    수행할 코드\n",
    "</code>\n",
    "</pre>\n"
   ]
  },
  {
   "cell_type": "code",
   "execution_count": null,
   "metadata": {
    "id": "Nl_wvp0C0DEX"
   },
   "outputs": [],
   "source": [
    "numbers = [1, 2, 3, 4]\n",
    "for number in numbers:\n",
    "    print(number)"
   ]
  },
  {
   "cell_type": "code",
   "execution_count": null,
   "metadata": {
    "id": "gwrn4Yis0DEX"
   },
   "outputs": [],
   "source": [
    "print(len(numbers))\n",
    "for i in range(len(numbers)):\n",
    "    print(numbers[i])"
   ]
  },
  {
   "cell_type": "code",
   "execution_count": null,
   "metadata": {
    "id": "ZmzQydPj0DEX"
   },
   "outputs": [],
   "source": [
    "for i in range(5):\n",
    "    print(i)"
   ]
  },
  {
   "cell_type": "code",
   "execution_count": null,
   "metadata": {
    "id": "xd9yRSEm0DEX"
   },
   "outputs": [],
   "source": [
    "for i in range(0, 10, 2):\n",
    "    print(i)"
   ]
  },
  {
   "cell_type": "markdown",
   "metadata": {
    "id": "nZxec4sl0DEY"
   },
   "source": [
    "## while문\n",
    "\n",
    "1. while문은 조건문이 참인 경우에 수행할 코드를 계속 반복합니다.\n",
    "\n",
    "<pre>\n",
    "<code>\n",
    "while (조건문):\n",
    "    수행할 코드\n",
    "</code>\n",
    "</pre>\n",
    "\n",
    "\n",
    "2. if문과 break를 사용해서 원하는 시점에 while문을 빠져나갈 수 있습니다.\n",
    "\n",
    "<pre>\n",
    "<code>\n",
    "while (조건문):\n",
    "    수행할 코드\n",
    "    if (조건문):\n",
    "        break\n",
    "</code>\n",
    "</pre>\n",
    "\n",
    "\n",
    "3. if문과 continue를 사용해서 while문의 처음으로 돌아갑니다\n",
    "\n",
    "<pre>\n",
    "<code>\n",
    "while (조건문):\n",
    "    수행할 코드\n",
    "    if (조건문):\n",
    "        continue\n",
    "</code>\n",
    "</pre>\n"
   ]
  },
  {
   "cell_type": "code",
   "execution_count": null,
   "metadata": {
    "id": "yB7xxO0u0DEY"
   },
   "outputs": [],
   "source": [
    "count = 0\n",
    "\n",
    "while count < 10:\n",
    "    count += 1\n",
    "    print(count)"
   ]
  },
  {
   "cell_type": "code",
   "execution_count": null,
   "metadata": {
    "id": "vvY7oGiI0DEY"
   },
   "outputs": [],
   "source": [
    "count = 0\n",
    "\n",
    "while True:\n",
    "    count += 1\n",
    "    print(count)\n",
    "    if count == 10:\n",
    "        break"
   ]
  },
  {
   "cell_type": "code",
   "execution_count": null,
   "metadata": {
    "id": "ecn2nt6D0DEY"
   },
   "outputs": [],
   "source": [
    "count = 0\n",
    "\n",
    "while count < 10:\n",
    "    count += 1\n",
    "    if count % 2 == 0:\n",
    "        continue\n",
    "    print(count)"
   ]
  },
  {
   "cell_type": "markdown",
   "metadata": {
    "id": "Pdl0GCkC0DEY"
   },
   "source": [
    "## 함수 만들기\n",
    "\n",
    "1. 특정 작업을 하는 코드를 함수로 만들어서 사용하면 코드의 중복을 막고 작업을 효율적으로 할 수 있습니다.\n",
    "\n",
    "<pre>\n",
    "<code>\n",
    "def 함수명():\n",
    "    수행할 코드\n",
    "</code>\n",
    "</pre>\n",
    "<pre>\n",
    "<code>\n",
    "def 함수명(변수1, 변수2, ...):\n",
    "    수행할 코드\n",
    "</code>\n",
    "</pre>\n",
    "\n",
    "\n",
    "2. return을 사용해서 함수 내의 값을 반환할 수 있습니다.\n",
    "\n",
    "<pre>\n",
    "<code>\n",
    "def 함수명(변수1, 변수2, ...):\n",
    "    수행할 코드\n",
    "    return 특정값\n",
    "</code>\n",
    "</pre>\n",
    "\n",
    "3. 전역변수와 지역변수를 구분해야합니다.\n",
    "\n",
    "   메소드 안에서 정의된 변수는 메소드 안에서만 유효합니다.\n",
    "   "
   ]
  },
  {
   "cell_type": "code",
   "execution_count": null,
   "metadata": {
    "id": "FTQc1c810DEY"
   },
   "outputs": [],
   "source": [
    "def add(num1, num2):\n",
    "    return num1 + num2\n",
    "\n",
    "a = 1\n",
    "b = 2\n",
    "c = add(a, b)\n",
    "print(c)"
   ]
  },
  {
   "cell_type": "code",
   "execution_count": null,
   "metadata": {
    "id": "3Ljsgo6z0DEZ"
   },
   "outputs": [],
   "source": [
    "# argument는 position 기반 또는 파라미터에 값을 직접 넘겨줄 수 있습니다.\n",
    "def divide(num1, num2):\n",
    "    return num1 / num2\n",
    "\n",
    "a = 10\n",
    "b = 20\n",
    "\n",
    "relative_1 = divide(a, b)\n",
    "relative_2 = divide(b, a)\n",
    "absolute_1 = divide(num1=a, num2=b)\n",
    "absolute_2 = divide(num2=a, num1=b)\n",
    "\n",
    "print('relative_1:', relative_1)\n",
    "print('relative_2:', relative_2)\n",
    "print('absolute_1:', absolute_1)\n",
    "print('absolute_2:', absolute_2)"
   ]
  },
  {
   "cell_type": "code",
   "execution_count": null,
   "metadata": {
    "id": "qs1AYk0A0DEZ"
   },
   "outputs": [],
   "source": [
    "# 전역변수와 지역변수를 구분해야합니다.\n",
    "x = 10\n",
    "\n",
    "def print_x():\n",
    "    print(x)\n",
    "    \n",
    "print_x()"
   ]
  },
  {
   "cell_type": "code",
   "execution_count": null,
   "metadata": {
    "id": "4II-apzV0DEZ"
   },
   "outputs": [],
   "source": [
    "def modify_x():\n",
    "    x = 100\n",
    "    print(x)\n",
    "    \n",
    "modify_x()\n",
    "print(x)"
   ]
  },
  {
   "cell_type": "code",
   "execution_count": null,
   "metadata": {
    "id": "vN_SmAzleJnE"
   },
   "outputs": [],
   "source": [
    "def modify_lst(lst):\n",
    "    for i in range(len(lst)):\n",
    "        lst[i] += 10\n",
    "    print(lst)\n",
    "\n",
    "lst = [1, 2, 3, 4, 5]\n",
    "modify_lst(lst)\n",
    "print(lst)"
   ]
  },
  {
   "cell_type": "markdown",
   "metadata": {
    "id": "uO1I0FtY0DEZ"
   },
   "source": [
    "## 람다 표현식 (lambda expression)\n",
    "\n",
    "지금까지 def로 함수를 만드는 방법을 알아봤습니다\n",
    "\n",
    "\n",
    "람다 표현식은 익명 함수를 만들 수 있는 기능입니다.\n",
    "\n",
    "<pre>\n",
    "<code>\n",
    "lambda 변수: 식\n",
    "</code>\n",
    "</pre>\n",
    "\n",
    "람다 표현식 안에서는 변수를 만들 수 없습니다."
   ]
  },
  {
   "cell_type": "code",
   "execution_count": null,
   "metadata": {
    "id": "Bxg-Cdu80DEa"
   },
   "outputs": [],
   "source": [
    "def multiply_ten(num):\n",
    "    return num * 10\n",
    "\n",
    "num = 10\n",
    "print(multiply_ten(num))"
   ]
  },
  {
   "cell_type": "code",
   "execution_count": null,
   "metadata": {
    "id": "IMWm3dAs0DEa"
   },
   "outputs": [],
   "source": [
    "# 권장하지 않음\n",
    "lambda_way = lambda x: x * 10\n",
    "print(lambda_way(num))"
   ]
  },
  {
   "cell_type": "code",
   "execution_count": null,
   "metadata": {
    "id": "8vee0nO80DEa"
   },
   "outputs": [],
   "source": [
    "(lambda x: x + 10)(1)"
   ]
  },
  {
   "cell_type": "code",
   "execution_count": null,
   "metadata": {
    "id": "-3PmhLZC0DEa"
   },
   "outputs": [],
   "source": [
    "y = 10\n",
    "(lambda x: x + y)(1)"
   ]
  },
  {
   "cell_type": "code",
   "execution_count": null,
   "metadata": {
    "id": "Vc-g8Bm20DEb"
   },
   "outputs": [],
   "source": [
    "# map 함수는 map(함수, 리스트 또는 튜플)를 하게 되면 메소드를 릭스트에 적용한 값을 반환합니다.\n",
    "print(list(map(multiply_ten, [10, 20, 30])))\n",
    "print(list(map(lambda x: x * 10, [10, 20, 30])))\n",
    "\n",
    "# sorted 함수는 sorted(리스트 또는 튜플, 함수)\n",
    "d = {'a': 100, 'b': 50, 'c': 10}\n",
    "print(sorted(d))\n",
    "print(sorted(d, key=lambda x: d[x]))"
   ]
  },
  {
   "cell_type": "markdown",
   "metadata": {
    "id": "LhzIawUY0DEb"
   },
   "source": [
    "## 클래스와 객체\n",
    "\n",
    "클래스란 객체를 정의해놓은 것 또는 객체의 설계도, 틀이라고 할 수 있습니다.\n",
    "\n",
    "\n",
    "클래스는 객체를 생성하는데 사용되며, 객체는 클래스에 정의된 대로 생성됩니다.\n",
    "\n",
    "\n",
    "프로그래밍에서 객체는 클래스에 정의된 내용대로 메모리에 생성된 것을 말합니다.\n",
    "\n",
    "\n",
    "A 클래스로 만들어진 a 라는 객체가 있다면 a를 A 클래스의 인스턴스(instance)라고 부릅니다.\n",
    "\n",
    "가장 간단한 클래스의 모습은 다음과 같습니다.\n",
    "<pre>\n",
    "<code>\n",
    "class 클래스명:\n",
    "    pass\n",
    "</code>\n",
    "</pre>\n",
    "\n",
    "\n",
    "클래스에는 변수, 생성자, 메소드 등을 정의 할 수 있습니다.\n",
    "\n",
    "\n",
    "아래의 코드에서 self는 자기 자신을 뜻합니다.\n",
    "\n",
    "<pre>\n",
    "<code>\n",
    "(변수 설정)\n",
    "class 클래스명:\n",
    "    self.a = 0\n",
    "    self.b = 4\n",
    "</code>\n",
    "</pre>\n",
    "\n",
    "<pre>\n",
    "<code>\n",
    "(생성자)\n",
    "class 클래스명:\n",
    "    def __init__(self, 변수1, 변수2, ...):\n",
    "        self.변수명1 = 변수1\n",
    "        self.변수명2 = 변수2\n",
    "</code>\n",
    "</pre>\n",
    "<pre>\n",
    "<code>\n",
    "(메소드)\n",
    "class 클래스명:\n",
    "    def add(self, 변수1, 변수2):\n",
    "        print(변수1 + 변수2)\n",
    "</code>\n",
    "</pre>\n"
   ]
  },
  {
   "cell_type": "code",
   "execution_count": null,
   "metadata": {
    "id": "2fec6Y3b0DEc"
   },
   "outputs": [],
   "source": [
    "# 학생 클래스를 만들고 학생클래스의 인스턴스인 A학생을 만들어 봅시다.\n",
    "\n",
    "class Student:\n",
    "    pass\n",
    "\n",
    "A = Student()\n",
    "\n",
    "type(A)"
   ]
  },
  {
   "cell_type": "code",
   "execution_count": null,
   "metadata": {
    "id": "-eoOZejt0DEc"
   },
   "outputs": [],
   "source": [
    "# 학생 클래스를 만들고 학생클래스의 인스턴스인 A학생과 B학생을 만들어 봅시다.\n",
    "\n",
    "class Student:\n",
    "    # 클래스 변수\n",
    "    num_students = 0\n",
    "    \n",
    "    # 생성자\n",
    "    def __init__(self, school, math, english):\n",
    "        self.school = school\n",
    "        self.math = math\n",
    "        self.english = english\n",
    "        # Student클래스의 인스턴스 생성시 클래스 변수인 num_students 1 증가 \n",
    "        Student.num_students += 1\n",
    "    \n",
    "    # 클래스 메소드\n",
    "    def get_info(self):\n",
    "        print('소속 학교:', self.school)\n",
    "        print('수학 성적:', self.math)\n",
    "        print('영어 성적:', self.english)\n",
    "\n",
    "A = Student()"
   ]
  },
  {
   "cell_type": "code",
   "execution_count": null,
   "metadata": {
    "id": "yKjSuyn_0DEc"
   },
   "outputs": [],
   "source": [
    "A = Student('연세', 80, 90)\n",
    "B = Student('세연', 85, 95)\n",
    "print(A.school)\n",
    "print(B.english)"
   ]
  },
  {
   "cell_type": "code",
   "execution_count": null,
   "metadata": {
    "id": "hZGZKPmB0DEc"
   },
   "outputs": [],
   "source": [
    "A.get_info()\n",
    "B.get_info()"
   ]
  },
  {
   "cell_type": "code",
   "execution_count": null,
   "metadata": {
    "id": "pytitX5-0DEc"
   },
   "outputs": [],
   "source": [
    "A.math = 0\n",
    "A.get_info()"
   ]
  },
  {
   "cell_type": "code",
   "execution_count": null,
   "metadata": {
    "id": "HCIhQet20DEd"
   },
   "outputs": [],
   "source": [
    "# num_students를 모두 공유하는 변수\n",
    "print(A.num_students)\n",
    "print(B.num_students)\n",
    "print(Student.num_students)"
   ]
  },
  {
   "cell_type": "markdown",
   "metadata": {
    "id": "brsf6BkUeJnH"
   },
   "source": [
    "### 과제 1\n",
    "\n",
    "**튜플**을 오름차순 정렬해서 리스트로 반환하는 함수를 만들어주세요.\n",
    "```sorted()``` 함수는 금지입니다. 버블 정렬, 삽입 정렬, 퀵 정렬 등 원하는 정렬 알고리즘을 선택해주세요\n",
    "\n",
    "\n",
    "```python3\n",
    "tup = (3, 4, 1)\n",
    "lst = sort(tup)\n",
    "# [1, 3, 4]가 나와야 함\n",
    "print(lst) \n",
    "```"
   ]
  },
  {
   "cell_type": "code",
   "execution_count": null,
   "metadata": {
    "id": "D5cUtBS9eJnH"
   },
   "outputs": [],
   "source": [
    "def sort(tup):\n",
    "    # 이 부분은 지우지 말아주세요\n",
    "    if not isinstance(tup, tuple):\n",
    "        raise TypeError(\"tuple을 넣어주세요\")\n",
    "    # FIXME\n",
    "    pass"
   ]
  },
  {
   "cell_type": "code",
   "execution_count": null,
   "metadata": {
    "id": "ZicbqghHeJnI"
   },
   "outputs": [],
   "source": [
    "# 결과확인\n",
    "tup = (8, 9, 1, 3, 11)\n",
    "print(sort(tup))"
   ]
  },
  {
   "cell_type": "markdown",
   "metadata": {
    "id": "UvU1Zh9Q0DEd"
   },
   "source": [
    "## 과제 2\n",
    "\n",
    "1. 'Point' 라는 이름의 클래스를 만들어 주세요.\n",
    "\n",
    "2. 'Point' 클래스는 0이 아닌 정수 x와 y를 인스턴스 변수를 생성자에 입력 받습니다.\n",
    "\n",
    "3. 'Point' 클래스는 위치를 set하는 함수 ```set_position(x, y)```이 있습니다.\n",
    "\n",
    "4. 'Point' 클래스는 위치를 get하는 함수 ```get_position()```이 있습니다.\n",
    "\n",
    "5. 'Point' 클래스는 다른 Point instance와의 거리를 계산하는 ```get_dist()``` 함수가 있습니다.\n",
    "\n",
    "6. (심화-선택) 'Point' 클래스는 ```print(Point)```를 했을 때 Point(x: x, y: y)를 출력해야합니다."
   ]
  },
  {
   "cell_type": "code",
   "execution_count": null,
   "metadata": {
    "id": "9DfbZwEV0DEe"
   },
   "outputs": [],
   "source": [
    "from math import sqrt\n",
    "\n",
    "print(sqrt(2))\n",
    "\n",
    "class Point:\n",
    "    # pass를 지우고 클래스를 완성해주세요!!\n",
    "    pass"
   ]
  },
  {
   "cell_type": "code",
   "execution_count": null,
   "metadata": {
    "id": "ZPkgLe_30DEe"
   },
   "outputs": [],
   "source": [
    "# 결과 확인\n",
    "p1 = Point(1, 2)\n",
    "\n",
    "# 출력\n",
    "# x: 1, y: 2 \n",
    "p1.get_point()\n",
    "p2.set_point(10, 20)\n",
    "# 출력\n",
    "# x: 10, y: 20\n",
    "p2.get_point()\n",
    "\n",
    "p2 = Point(3, 4)\n",
    "# (10, 20)과 (3, 4)의 유클리디안 거리를 계산해주세요\n",
    "print(p1.get_dist(p2))\n",
    "\n",
    "# (심화-선택)\n",
    "print(p1)\n",
    "print(p2)"
   ]
  },
  {
   "cell_type": "markdown",
   "metadata": {
    "id": "ZlOfrwFB0DEe"
   },
   "source": [
    "## 과제 제출\n",
    "\n",
    "1. 문제를 풀고 구글 드라이브의 과제제출 폴더에 업로드 해주시면 됩니다.\n",
    "\n",
    "\n",
    "2. 파일명은 '19기_학과_이름'으로 해주시면 됩니다.\n",
    "\n",
    "\n",
    "### 더 알아보면 좋을 것들: 에러 핸들링, 파일 I/O"
   ]
  },
  {
   "cell_type": "code",
   "execution_count": null,
   "metadata": {
    "id": "_c-kpJgheJnJ"
   },
   "outputs": [],
   "source": []
  }
 ],
 "metadata": {
  "colab": {
   "collapsed_sections": [
    "g2tnWS5_0DEU",
    "OVvVYa9e0DEU",
    "kDjzjWIG0DEU",
    "bGZ_bb-N0DEU",
    "rGP4LmaK0DEV",
    "-O0tQehP0DEW",
    "8gEBujO00DEW",
    "iVETDJlh0DEX",
    "nZxec4sl0DEY",
    "Pdl0GCkC0DEY",
    "uO1I0FtY0DEZ",
    "LhzIawUY0DEb",
    "brsf6BkUeJnH"
   ],
   "name": "jupyter_notebook.ipynb",
   "provenance": []
  },
  "kernelspec": {
   "display_name": "Python 3",
   "language": "python",
   "name": "python3"
  },
  "language_info": {
   "codemirror_mode": {
    "name": "ipython",
    "version": 3
   },
   "file_extension": ".py",
   "mimetype": "text/x-python",
   "name": "python",
   "nbconvert_exporter": "python",
   "pygments_lexer": "ipython3",
   "version": "3.8.5"
  }
 },
 "nbformat": 4,
 "nbformat_minor": 1
}
